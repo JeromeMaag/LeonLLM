{
 "cells": [
  {
   "cell_type": "markdown",
   "metadata": {},
   "source": [
    "# Chess Model\n"
   ]
  },
  {
   "cell_type": "markdown",
   "metadata": {},
   "source": [
    "## Load Leon Chess Model from Hugging Face"
   ]
  },
  {
   "cell_type": "markdown",
   "metadata": {},
   "source": [
    "- all our models: https://huggingface.co/collections/Leon-LLM/leon-llm-chess-models-6584387dbef870ffa4a7605f"
   ]
  },
  {
   "cell_type": "code",
   "execution_count": null,
   "metadata": {},
   "outputs": [],
   "source": [
    "from transformers import AutoModelForCausalLM\n",
    "\n",
    "modelname = \"Leon-LLM/R2_GPT2_350k_4E_xLANplus\"  # Huggingface model name\n",
    "modelname2 = \"Leon-LLM/R4_Mamba_350k_4E_xLANplus\"  # Huggingface model name\n",
    "model = AutoModelForCausalLM.from_pretrained(modelname)\n",
    "model2 = AutoModelForCausalLM.from_pretrained(modelname2)"
   ]
  },
  {
   "cell_type": "markdown",
   "metadata": {},
   "source": [
    "## Play a game of Chess against the Model"
   ]
  },
  {
   "cell_type": "markdown",
   "metadata": {},
   "source": [
    "### Config"
   ]
  },
  {
   "cell_type": "code",
   "execution_count": null,
   "metadata": {},
   "outputs": [],
   "source": [
    "from src.chess_game import ChessGame\n",
    "\n",
    "player1 = \"player\"  # select \"player\" or \"model\" for white\n",
    "player2 = \"model\"  # select \"player\" or \"model\" for black\n",
    "notation = \"xLANplus\"  # select \"xLANplus\", \"xLAN\", \"xLANchk\" or \"xLANcap\"\n",
    "temperature = (\n",
    "    0.7  # selenct a value between 0.1 and 2.0 to control the randomness of the model\n",
    ")\n",
    "\n",
    "\n",
    "show_game_history = True  # set to True to show the game history (takes up a lot of space) and keep the board for every move\n",
    "\n",
    "\n",
    "show_game_history = False\n",
    "\n",
    "\n",
    "game = ChessGame(\n",
    "    player1,\n",
    "    player2,\n",
    "    model_p1=None,\n",
    "    model_p2=model,\n",
    "    notation=notation,\n",
    "    max_model_tries=5,\n",
    "    temperature=temperature,\n",
    "    show_game_history=show_game_history,\n",
    ")"
   ]
  },
  {
   "cell_type": "markdown",
   "metadata": {},
   "source": [
    "### Play"
   ]
  },
  {
   "cell_type": "code",
   "execution_count": null,
   "metadata": {},
   "outputs": [],
   "source": [
    "game.play_game()"
   ]
  },
  {
   "cell_type": "code",
   "execution_count": null,
   "metadata": {},
   "outputs": [],
   "source": [
    "game.print_game_history()"
   ]
  },
  {
   "cell_type": "markdown",
   "metadata": {},
   "source": [
    "#### Config"
   ]
  },
  {
   "cell_type": "code",
   "execution_count": null,
   "metadata": {},
   "outputs": [],
   "source": [
    "# Add as many input strings as you want here\n",
    "input_string = [\n",
    "    \"Pc2c4- Pg7g5- Pb2b3- Pd7d5- Ng1f3-\",\n",
    "]\n",
    "\n",
    "plies = 10  # number of plies (half-moves) to predict\n",
    "temperature = (\n",
    "    0.1  # selenct a value between 0.1 and 2.0 to control the randomness of the model\n",
    ")\n",
    "max_batch_size = 1  # maximum number of predictions to make in parallel (higher is faster but requires more memory)"
   ]
  },
  {
   "cell_type": "markdown",
   "metadata": {},
   "source": [
    "#### predict"
   ]
  },
  {
   "cell_type": "code",
   "execution_count": null,
   "metadata": {},
   "outputs": [],
   "source": [
    "from src.generate_prediction import generate_batch_predictions\n",
    "\n",
    "output_batch, predicted_tokens_batch, input_tokens_batch = generate_batch_predictions(\n",
    "    inputs=input_string,\n",
    "    num_tokens_to_generate=plies\n",
    "    * 4,  # 3 tokens per ply (piece, start square, end square)\n",
    "    model=model2,\n",
    "    notation=notation,\n",
    "    temperature=temperature,\n",
    "    max_batch_size=max_batch_size,\n",
    ")\n",
    "\n",
    "\n",
    "print(\"output_batch: \", output_batch)"
   ]
  },
  {
   "cell_type": "markdown",
   "metadata": {},
   "source": [
    "## Beam "
   ]
  },
  {
   "cell_type": "markdown",
   "metadata": {},
   "source": [
    "#### Config\n",
    "\n",
    "- don't us large numbers for num_tokens_to_generate and beam_size\n",
    "- Runtime complexity of O(b^d), where b is the beam size and d is the num_tokens_to_generate.\n"
   ]
  },
  {
   "cell_type": "code",
   "execution_count": null,
   "metadata": {},
   "outputs": [],
   "source": [
    "input_string = \"Pe2e4\"\n",
    "num_tokens_to_generate = 3  # number of tokens to predict\n",
    "beam_size = 10  # the top k predictions to consider at each step"
   ]
  },
  {
   "cell_type": "code",
   "execution_count": null,
   "metadata": {},
   "outputs": [],
   "source": [
    "from src.generate_prediction import generate_beam\n",
    "\n",
    "\n",
    "generate_beam(\n",
    "\n",
    "    input_string,\n",
    "\n",
    "    model2,\n",
    "\n",
    "    notation=notation,\n",
    "\n",
    "    num_tokens_to_generate=num_tokens_to_generate,\n",
    "\n",
    "    beam_size=beam_size,\n",
    "\n",
    ")"
   ]
  },
  {
   "cell_type": "markdown",
   "metadata": {},
   "source": [
    "# TOKENIZE"
   ]
  },
  {
   "cell_type": "code",
   "execution_count": null,
   "metadata": {},
   "outputs": [],
   "source": [
    "from src.tokenizer.tokenizer import tokenize_data\n",
    "\n",
    "data = \"Pe2e4- Pe7e5- Ng1f3- Nb8c6- Bf1c4- Bf8c5-\"\n",
    "tokenized_data = tokenize_data(data, \"xLANplus\")\n",
    "\n",
    "print(\"data: \", data)\n",
    "print(\"tokenized_data: \", tokenized_data)"
   ]
  },
  {
   "cell_type": "markdown",
   "metadata": {},
   "source": [
    "## Detokenize"
   ]
  },
  {
   "cell_type": "code",
   "execution_count": null,
   "metadata": {},
   "outputs": [],
   "source": [
    "from src.tokenizer.detokenizer import detokenize_data\n",
    "\n",
    "detokenized_data = detokenize_data(tokenized_data, \"xLANplus\")\n",
    "\n",
    "print(\"detokenized_data: \", detokenized_data)"
   ]
  }
 ],
 "metadata": {
  "kernelspec": {
   "display_name": "Python 3 (ipykernel)",
   "language": "python",
   "name": "python3"
  },
  "language_info": {
   "codemirror_mode": {
    "name": "ipython",
    "version": 3
   },
   "file_extension": ".py",
   "mimetype": "text/x-python",
   "name": "python",
   "nbconvert_exporter": "python",
   "pygments_lexer": "ipython3",
   "version": "3.10.11"
  }
 },
 "nbformat": 4,
 "nbformat_minor": 4
}
