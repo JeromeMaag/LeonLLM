{
 "cells": [
  {
   "cell_type": "markdown",
   "metadata": {},
   "source": [
    "## Dataset\n",
    "\n",
    "- use datasets in ./data/training to train your model\n",
    "- use DownloadUpload.ipynb to Download a dataset from Hugging Face\n",
    "- use DataPreProcessing.ipynb to create your own dataset"
   ]
  },
  {
   "cell_type": "code",
   "execution_count": null,
   "metadata": {},
   "outputs": [],
   "source": [
    "# xLAN\n",
    "ds_19k = \"./data/training/09_2023/xlan/standard_rated_19k.xlan.tok\"\n",
    "ds_71k = \"./data/training/09_2023/xlan/standard_rated_71k.xlan.tok\"\n",
    "ds_350k = \"./data/training/09_2023/xlan/standard_rated_350k.xlan.tok\"\n",
    "\n",
    "# xLAN+\n",
    "ds_19k_plus = \"./data/training/09_2023/xlanplus/standard_rated_19k.xlanplus.tok\"\n",
    "ds_71k_plus = \"./data/training/09_2023/xlanplus/standard_rated_71k.xlanplus.tok\"\n",
    "ds_350k_plus = \"./data/training/09_2023/xlanplus/standard_rated_350k.xlanplus.tok\"\n",
    "ds_1M_plus = \"./data/training/09_2023/xlanplus/standard_rated_1M.xlanplus.tok\"\n",
    "\n",
    "# xLANcap\n",
    "ds_19k_cap = \"./data/training/09_2023/xlancap/standard_rated_19k.xlancap.tok\"\n",
    "ds_71k_cap = \"./data/training/09_2023/xlancap/standard_rated_71k.xlancap.tok\"\n",
    "ds_350k_cap = \"./data/training/09_2023/xlancap/standard_rated_350k.xlancap.tok\"\n",
    "\n",
    "# xLANchk\n",
    "ds_19k_chk = \"./data/training/09_2023/xlanchk/standard_rated_19k.xlanchk.tok\"\n",
    "ds_71k_chk = \"./data/training/09_2023/xlanchk/standard_rated_71k.xlanchk.tok\"\n",
    "ds_350k_chk = \"./data/training/09_2023/xlanchk/standard_rated_350k.xlanchk.tok\""
   ]
  },
  {
   "cell_type": "markdown",
   "metadata": {},
   "source": [
    "### Config"
   ]
  },
  {
   "cell_type": "code",
   "execution_count": null,
   "metadata": {},
   "outputs": [],
   "source": [
    "dataset = ds_71k_plus\n",
    "\n",
    "## HYPERPARAMETERS\n",
    "BATCH_SIZE = 1  # use the largest batch size that fits on your GPU\n",
    "SAVE_STEPS = 2000  # how often to save a checkpoint\n",
    "LOGGING_STEPS = 4  # how often to validate model and publish it to Weights & Biases\n",
    "EPOCHS = 4  # how many epochs to train for - how many times to go through the dataset\n",
    "LEARNING_RATE = 0.0001  # learning rate - how fast the model should learn\n",
    "SKIP_VALIDATION = False  # skip validation and only save model checkpoints\n",
    "WEIGHTS_AND_BIASES_ENABLED = True  # enable logging to Weights & Biases\n",
    "USE_FP16 = True  # enable mixed precision training (GPU only)\n",
    "NOTATION = \"xLANplus\"  # Options: xLAN, xLANplus, xLANcap, xLANchk\n",
    "LEFT_PAD = False  # pad sequences on the left\n",
    "\n",
    "## NAMING\n",
    "MODEL_TYPE = \"GPT2\"  # choose between \"GPT2\" or \"Mamba\"\n",
    "VERSION_NUMBER = \"V100\"  # chronological version increment\n",
    "DATASET_SIZE = \"71k\"  # Options: 19k, 71k, 350k, 1M\n",
    "\n",
    "model_name = f\"{VERSION_NUMBER}_{MODEL_TYPE}_{DATASET_SIZE}_{EPOCHS}E_{NOTATION}\"\n",
    "\n",
    "## SAVING MODEL\n",
    "output_dir = f\"./Leon-LLM-Models/{model_name}/\"\n",
    "\n",
    "print(model_name)"
   ]
  },
  {
   "cell_type": "markdown",
   "metadata": {},
   "source": [
    "### Check if CUDA is available"
   ]
  },
  {
   "cell_type": "code",
   "execution_count": null,
   "metadata": {},
   "outputs": [],
   "source": [
    "import torch\n",
    "\n",
    "print(torch.cuda.is_available())"
   ]
  },
  {
   "cell_type": "markdown",
   "metadata": {},
   "source": [
    "### Train"
   ]
  },
  {
   "cell_type": "code",
   "execution_count": null,
   "metadata": {},
   "outputs": [],
   "source": [
    "from src.train import ChessTrainer\n",
    "\n",
    "trainer = ChessTrainer(\n",
    "    model_type=MODEL_TYPE,\n",
    "    batch_size=BATCH_SIZE,\n",
    "    learning_rate=LEARNING_RATE,\n",
    "    epochs=EPOCHS,\n",
    "    input_file=dataset,\n",
    "    output_dir=output_dir,\n",
    "\n",
    "    save_steps=SAVE_STEPS,\n",
    "\n",
    "    logging_steps=LOGGING_STEPS,\n",
    "    skip_validation=SKIP_VALIDATION,\n",
    "    weight_and_biases=WEIGHTS_AND_BIASES_ENABLED,\n",
    "    use_FP16=USE_FP16,\n",
    "    notation=NOTATION,\n",
    "    left_padding=LEFT_PAD,\n",
    ")\n",
    "\n",
    "\n",
    "\n",
    "trainer.train()"
   ]
  },
  {
   "cell_type": "markdown",
   "metadata": {},
   "source": [
    "# Validate the model"
   ]
  },
  {
   "cell_type": "markdown",
   "metadata": {},
   "source": [
    "### Config"
   ]
  },
  {
   "cell_type": "code",
   "execution_count": null,
   "metadata": {},
   "outputs": [],
   "source": [
    "from transformers import AutoModelForCausalLM\n",
    "\n",
    "modelname = \"Leon-LLM/Leon-Chess-1M-BOS\"  # Huggingface model name or local path\n",
    "model = AutoModelForCausalLM.from_pretrained(modelname)\n",
    "number_of_sequences = 1000  # how many sequences to generate to calculate average for \"average correct plies\" metric\n",
    "number_of_plies_to_generate = 125  # how many plies to generate for each sequence\n",
    "max_batch_size = 100  # max batch size for \"average correct plies\" metric"
   ]
  },
  {
   "cell_type": "markdown",
   "metadata": {},
   "source": [
    "### Validate"
   ]
  },
  {
   "cell_type": "code",
   "execution_count": null,
   "metadata": {},
   "outputs": [],
   "source": [
    "from src.validation.validate_model import validate_model\n",
    "\n",
    "(\n",
    "    hard_position_accuracy,\n",
    "    legal_piece_moves_accuracy,\n",
    "    average_correct_plies,\n",
    "    error_frequencies,\n",
    "    hard_position_results,\n",
    "    legal_piece_moves_results,\n",
    "    sequence_results,\n",
    ") = validate_model(\n",
    "    model, number_of_sequences, number_of_plies_to_generate, max_batch_size\n",
    ")"
   ]
  },
  {
   "cell_type": "markdown",
   "metadata": {},
   "source": [
    "### Show results"
   ]
  },
  {
   "cell_type": "code",
   "execution_count": null,
   "metadata": {},
   "outputs": [],
   "source": [
    "print(\n",
    "    f\"hard_position_accuracy: {hard_position_accuracy}\\nLegal piece moves accuracy: {legal_piece_moves_accuracy}\\nAverage correct plies: {average_correct_plies}\\nError frequencies: {error_frequencies}\\n\"\n",
    ")"
   ]
  }
 ],
 "metadata": {
  "kernelspec": {
   "display_name": "Python 3 (ipykernel)",
   "language": "python",
   "name": "python3"
  },
  "language_info": {
   "codemirror_mode": {
    "name": "ipython",
    "version": 3
   },
   "file_extension": ".py",
   "mimetype": "text/x-python",
   "name": "python",
   "nbconvert_exporter": "python",
   "pygments_lexer": "ipython3",
   "version": "3.10.11"
  }
 },
 "nbformat": 4,
 "nbformat_minor": 4
}
