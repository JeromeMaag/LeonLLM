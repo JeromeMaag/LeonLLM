{
 "cells": [
  {
   "cell_type": "code",
   "execution_count": null,
   "metadata": {},
   "outputs": [],
   "source": [
    "import pandas as pd\n",
    "import matplotlib.pyplot as plt"
   ]
  },
  {
   "cell_type": "code",
   "execution_count": null,
   "metadata": {},
   "outputs": [],
   "source": [
    "# load data\n",
    "\n",
    "path = \"results/model_evaluations/V63a_GPT2_350k_4E_xLANplus_RIGHT_PAD_sequence_results_1000x125.csv\" # V63a\n",
    "# path = \"results/model_evaluations/V70_Mamba_350k_4E_xLANplus_RIGHT_PAD_sequence_results_1000x125.csv\" # V70\n",
    "model_name = path.split(\"/\")[-1].split(\".csv\")[0]\n",
    "version_number = path.split(\"/\")[-1].split(\"_\")[0]\n",
    "\n",
    "# create dataframe\n",
    "\n",
    "df = pd.read_csv(path)\n",
    "# df headers: \"Game String\", \"Moves Until Error\", \"Error Type\", \"First Illegal Move\", \"Predicted Tokens\"\n",
    "\n",
    "print(f\"version_number = {version_number}\")\n",
    "print(f\"model_name = {model_name}\")"
   ]
  },
  {
   "cell_type": "code",
   "execution_count": null,
   "metadata": {},
   "outputs": [],
   "source": [
    "# for every \"Game String\", convert it to xLAN\n",
    "\n",
    "from src.notation_converter import xlanplus_sequence_to_xlan\n",
    "\n",
    "df[\"xLAN\"] = df[\"Game String\"].apply(xlanplus_sequence_to_xlan)"
   ]
  },
  {
   "cell_type": "code",
   "execution_count": null,
   "metadata": {},
   "outputs": [],
   "source": [
    "# for every \"xLAN\", convert it to xLAN-tokens\n",
    "\n",
    "from src.tokenizer.tokenizer import tokenize_data\n",
    "\n",
    "token_path = \"src/tokenizer/xlan_tokens.json\"\n",
    "\n",
    "df[\"xLAN_tokens\"] = df[\"xLAN\"].apply(lambda x: tokenize_data(x, token_path))\n",
    "df"
   ]
  },
  {
   "cell_type": "code",
   "execution_count": null,
   "metadata": {},
   "outputs": [],
   "source": [
    "# for every \"xLAN\" and \"xLAN_tokens\", evaluate the sequence, and store the results in separate columns\n",
    "\n",
    "from src.validation.validate_sequence import evaluate_sequence\n",
    "\n",
    "df[\"evaluation\"] = df.apply(lambda x: evaluate_sequence([x[\"xLAN\"]], [x[\"xLAN_tokens\"]]), axis=1)\n",
    "df[\"moves_until_error\"] = df[\"evaluation\"].apply(lambda x: x[0][1])\n",
    "df[\"error_type\"] = df[\"evaluation\"].apply(lambda x: x[0][2])\n",
    "df[\"first_illegal_move\"] = df[\"evaluation\"].apply(lambda x: x[0][3])\n",
    "df"
   ]
  },
  {
   "cell_type": "code",
   "execution_count": null,
   "metadata": {},
   "outputs": [],
   "source": [
    "# export df_v47 as a csv file\n",
    "df.to_csv(f\"results/model_evaluations/{model_name}_reevaluated_xlan.csv\", index=False)"
   ]
  },
  {
   "cell_type": "code",
   "execution_count": null,
   "metadata": {},
   "outputs": [],
   "source": [
    "def show_error_frequencies_absolute(df, version_number):\n",
    "\n",
    "    # Create buckets for \"Moves Until Error\" (every ten moves)\n",
    "    min_moves = df[\"moves_until_error\"].min()\n",
    "    max_moves = df[\"moves_until_error\"].max()\n",
    "\n",
    "    bins = range(0, max_moves + 10, 10)\n",
    "    labels = [f\"{i+1}-{i+10}\" for i in bins[:-1]]\n",
    "\n",
    "    df[\"Error Bucket\"] = pd.cut(df[\"moves_until_error\"], bins=bins, labels=labels)\n",
    "\n",
    "    # Group by error bucket and error type\n",
    "    error_summary = df.groupby([\"Error Bucket\", \"error_type\"]).size().unstack(fill_value=0)\n",
    "\n",
    "    error_types = [\"syntax\", \"piece logic\", \"path obstruction\", \"pseudolegal\", \"indicator error\", \"no error\", \"max length\"]\n",
    "    \n",
    "    for error_type in error_types:\n",
    "        if error_type not in error_summary.columns:\n",
    "            error_summary[error_type] = 0\n",
    "    \n",
    "    error_summary = error_summary[error_types]\n",
    "\n",
    "    # Plot the results in a stacked bar chart\n",
    "    ax = error_summary.plot(kind='bar', stacked=True, figsize=(12, 6))\n",
    "    ax.set_xlabel(\"Moves Until Error\")\n",
    "    ax.set_ylabel(\"Number of Errors\")\n",
    "    ax.set_title(f\"Number of Errors by Moves Until Error and Error Type ({version_number})\")\n",
    "    plt.xticks(rotation=45)\n",
    "    plt.legend(title=\"Error Type\", loc='upper left')\n",
    "    plt.tight_layout()\n",
    "    plt.savefig(f\"results/plots/error_frequencies/{version_number}_error_frequencies_reevaluated_xlan.png\")\n",
    "    plt.show()"
   ]
  },
  {
   "cell_type": "code",
   "execution_count": null,
   "metadata": {},
   "outputs": [],
   "source": [
    "show_error_frequencies_absolute(df, version_number)"
   ]
  },
  {
   "cell_type": "code",
   "execution_count": null,
   "metadata": {},
   "outputs": [],
   "source": [
    "# calculate average number of correct plies\n",
    "\n",
    "def calculate_average_correct_plies(df):\n",
    "    total_moves = df[\"moves_until_error\"].sum()\n",
    "    total_games = len(df)\n",
    "    average_correct_plies = total_moves / total_games\n",
    "    return average_correct_plies"
   ]
  },
  {
   "cell_type": "code",
   "execution_count": null,
   "metadata": {},
   "outputs": [],
   "source": [
    "calculate_average_correct_plies(df)"
   ]
  }
 ],
 "metadata": {
  "kernelspec": {
   "display_name": "venv",
   "language": "python",
   "name": "python3"
  },
  "language_info": {
   "codemirror_mode": {
    "name": "ipython",
    "version": 3
   },
   "file_extension": ".py",
   "mimetype": "text/x-python",
   "name": "python",
   "nbconvert_exporter": "python",
   "pygments_lexer": "ipython3",
   "version": "3.11.8"
  }
 },
 "nbformat": 4,
 "nbformat_minor": 2
}
